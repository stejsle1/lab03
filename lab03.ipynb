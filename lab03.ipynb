{
 "cells": [
  {
   "cell_type": "code",
   "execution_count": 1,
   "metadata": {},
   "outputs": [],
   "source": [
    "import pandas\n",
    "import matplotlib\n",
    "import matplotlib.style\n",
    "matplotlib.style.use('ggplot')\n",
    "%matplotlib inline\n",
    "\n",
    "tab = pandas.read_csv('data/survey_results_public.csv')\n",
    "czsk = tab[(tab['Country'] == 'Czech Republic') | (tab['Country'] == 'Slovak Republic')]"
   ]
  },
  {
   "cell_type": "code",
   "execution_count": 2,
   "metadata": {},
   "outputs": [
    {
     "name": "stdout",
     "output_type": "stream",
     "text": [
      "Kolik lidí celkem vyplnilo dotazník?\n"
     ]
    },
    {
     "data": {
      "text/plain": [
       "51392"
      ]
     },
     "execution_count": 2,
     "metadata": {},
     "output_type": "execute_result"
    }
   ],
   "source": [
    "print('Kolik lidí celkem vyplnilo dotazník?')\n",
    "len(tab)"
   ]
  },
  {
   "cell_type": "code",
   "execution_count": 3,
   "metadata": {},
   "outputs": [
    {
     "name": "stdout",
     "output_type": "stream",
     "text": [
      "Kolik z nich bylo z ČR/SR?\n"
     ]
    },
    {
     "data": {
      "text/plain": [
       "581"
      ]
     },
     "execution_count": 3,
     "metadata": {},
     "output_type": "execute_result"
    }
   ],
   "source": [
    "print('Kolik z nich bylo z ČR/SR?')\n",
    "len(tab[(tab['Country'] == 'Czech Republic') | (tab['Country'] == 'Slovak Republic')])"
   ]
  },
  {
   "cell_type": "code",
   "execution_count": 4,
   "metadata": {},
   "outputs": [
    {
     "name": "stdout",
     "output_type": "stream",
     "text": [
      "Jaká je, podle dotazníku, průměrná mzda programátorů v ČR/SR? ($/rok)\n"
     ]
    },
    {
     "data": {
      "text/plain": [
       "21211.712109970078"
      ]
     },
     "execution_count": 4,
     "metadata": {},
     "output_type": "execute_result"
    }
   ],
   "source": [
    "salaryczsk = czsk[czsk['Salary'].notnull()]\n",
    "print('Jaká je, podle dotazníku, průměrná mzda programátorů v ČR/SR? ($/rok)')\n",
    "salaryczsk['Salary'].mean()"
   ]
  },
  {
   "cell_type": "code",
   "execution_count": 5,
   "metadata": {},
   "outputs": [
    {
     "name": "stdout",
     "output_type": "stream",
     "text": [
      "Ve světě? ($/rok)\n"
     ]
    },
    {
     "data": {
      "text/plain": [
       "56298.480640629248"
      ]
     },
     "execution_count": 5,
     "metadata": {},
     "output_type": "execute_result"
    }
   ],
   "source": [
    "salaryall = tab[tab['Salary'].notnull()]\n",
    "print('Ve světě? ($/rok)')\n",
    "salaryall['Salary'].mean()"
   ]
  },
  {
   "cell_type": "code",
   "execution_count": 6,
   "metadata": {
    "scrolled": true
   },
   "outputs": [
    {
     "name": "stdout",
     "output_type": "stream",
     "text": [
      "Kolik lidí z ČR/SR uvedlo, že používá Python?\n"
     ]
    },
    {
     "data": {
      "text/plain": [
       "129"
      ]
     },
     "execution_count": 6,
     "metadata": {},
     "output_type": "execute_result"
    }
   ],
   "source": [
    "have = czsk[czsk['HaveWorkedLanguage'].notnull()]\n",
    "have2 = have[have['HaveWorkedLanguage'].str.contains('Python')]\n",
    "print('Kolik lidí z ČR/SR uvedlo, že používá Python?')\n",
    "len(have2[['HaveWorkedLanguage']])"
   ]
  },
  {
   "cell_type": "code",
   "execution_count": 7,
   "metadata": {},
   "outputs": [
    {
     "name": "stdout",
     "output_type": "stream",
     "text": [
      "Kolik z nich chce v používání Pythonu pokračovat?\n"
     ]
    },
    {
     "data": {
      "text/plain": [
       "86"
      ]
     },
     "execution_count": 7,
     "metadata": {},
     "output_type": "execute_result"
    }
   ],
   "source": [
    "want = czsk[czsk['WantWorkLanguage'].notnull()]\n",
    "want2 = want[want['HaveWorkedLanguage'].notnull()]\n",
    "want3 = want2[want2['WantWorkLanguage'].str.contains('Python')]\n",
    "want4 = want3[want3['HaveWorkedLanguage'].str.contains('Python')]\n",
    "print('Kolik z nich chce v používání Pythonu pokračovat?')\n",
    "len(want4)"
   ]
  },
  {
   "cell_type": "code",
   "execution_count": 8,
   "metadata": {},
   "outputs": [
    {
     "name": "stdout",
     "output_type": "stream",
     "text": [
      "Kolik lidí Python nepoužívá, ale chce ho začít používat?\n"
     ]
    },
    {
     "data": {
      "text/plain": [
       "47"
      ]
     },
     "execution_count": 8,
     "metadata": {},
     "output_type": "execute_result"
    }
   ],
   "source": [
    "want = czsk[czsk['WantWorkLanguage'].notnull()]\n",
    "want2 = want[want['HaveWorkedLanguage'].notnull()]\n",
    "want3 = want2[want2['WantWorkLanguage'].str.contains('Python')]\n",
    "want4 = want3[~want3['HaveWorkedLanguage'].str.contains('Python')]\n",
    "print('Kolik lidí Python nepoužívá, ale chce ho začít používat?')\n",
    "len(want4)"
   ]
  },
  {
   "cell_type": "code",
   "execution_count": 9,
   "metadata": {},
   "outputs": [
    {
     "name": "stdout",
     "output_type": "stream",
     "text": [
      "Kolik lidí z ČR/SR uvedlo, že používá Javu?\n"
     ]
    },
    {
     "data": {
      "text/plain": [
       "299"
      ]
     },
     "execution_count": 9,
     "metadata": {},
     "output_type": "execute_result"
    }
   ],
   "source": [
    "have = czsk[czsk['HaveWorkedLanguage'].notnull()]\n",
    "have2 = have[have['HaveWorkedLanguage'].str.contains('Java')]\n",
    "print('Kolik lidí z ČR/SR uvedlo, že používá Javu?')\n",
    "len(have2[['HaveWorkedLanguage']])"
   ]
  },
  {
   "cell_type": "code",
   "execution_count": 10,
   "metadata": {},
   "outputs": [
    {
     "name": "stdout",
     "output_type": "stream",
     "text": [
      "Kolik z nich chce v používání Javy pokračovat?\n"
     ]
    },
    {
     "data": {
      "text/plain": [
       "203"
      ]
     },
     "execution_count": 10,
     "metadata": {},
     "output_type": "execute_result"
    }
   ],
   "source": [
    "want = czsk[czsk['WantWorkLanguage'].notnull()]\n",
    "want2 = want[want['HaveWorkedLanguage'].notnull()]\n",
    "want3 = want2[want2['WantWorkLanguage'].str.contains('Java')]\n",
    "want4 = want3[want3['HaveWorkedLanguage'].str.contains('Java')]\n",
    "print('Kolik z nich chce v používání Javy pokračovat?')\n",
    "len(want4)"
   ]
  },
  {
   "cell_type": "code",
   "execution_count": 11,
   "metadata": {},
   "outputs": [
    {
     "name": "stdout",
     "output_type": "stream",
     "text": [
      "Kolik lidí Javu nepoužívá, ale chce ji začít používat?\n"
     ]
    },
    {
     "data": {
      "text/plain": [
       "23"
      ]
     },
     "execution_count": 11,
     "metadata": {},
     "output_type": "execute_result"
    }
   ],
   "source": [
    "want = czsk[czsk['WantWorkLanguage'].notnull()]\n",
    "want2 = want[want['HaveWorkedLanguage'].notnull()]\n",
    "want3 = want2[want2['WantWorkLanguage'].str.contains('Java')]\n",
    "want4 = want3[~want3['HaveWorkedLanguage'].str.contains('Java')]\n",
    "print('Kolik lidí Javu nepoužívá, ale chce ji začít používat?')\n",
    "len(want4)"
   ]
  },
  {
   "cell_type": "code",
   "execution_count": 12,
   "metadata": {},
   "outputs": [
    {
     "name": "stdout",
     "output_type": "stream",
     "text": [
      "Vykreslete graf, který pro každý jazyk ukáže průměrnou měsíční mzdu lidí z ČR/SR, kteří tento jazyk používají (podle dat dostupných z dotazníku)\n"
     ]
    },
    {
     "data": {
      "text/plain": [
       "<matplotlib.axes._subplots.AxesSubplot at 0x7f8a2efc0a20>"
      ]
     },
     "execution_count": 12,
     "metadata": {},
     "output_type": "execute_result"
    },
    {
     "data": {
      "image/png": "[encoded data removed]",
      "text/plain": [
       "<matplotlib.figure.Figure at 0x7f8a2efcaa20>"
      ]
     },
     "metadata": {},
     "output_type": "display_data"
    }
   ],
   "source": [
    "p = czsk[czsk['HaveWorkedLanguage'].notnull()]\n",
    "a = p['HaveWorkedLanguage']\n",
    "split = pandas.DataFrame(a.str.split('; ').tolist()).stack().str.replace('+', '\\+')\n",
    "langs = split.unique()\n",
    "salary = czsk[czsk['Salary'].notnull()]\n",
    "arr = salary[salary['HaveWorkedLanguage'].notnull()]\n",
    "list = []\n",
    "for i in range(0, langs.size):\n",
    "    vysek = arr[arr['HaveWorkedLanguage'].str.contains(langs[i])]\n",
    "    list.append(vysek['Salary'].mean() // 12)\n",
    "vysledek = pandas.Series(list, index=langs)\n",
    "print('Vykreslete graf, který pro každý jazyk ukáže průměrnou měsíční mzdu lidí z ČR/SR, kteří tento jazyk používají (podle dat dostupných z dotazníku)')\n",
    "vysledek.fillna(0).plot.bar()"
   ]
  },
  {
   "cell_type": "code",
   "execution_count": null,
   "metadata": {},
   "outputs": [],
   "source": []
  }
 ],
 "metadata": {
  "kernelspec": {
   "display_name": "Python 3",
   "language": "python",
   "name": "python3"
  },
  "language_info": {
   "codemirror_mode": {
    "name": "ipython",
    "version": 3
   },
   "file_extension": ".py",
   "mimetype": "text/x-python",
   "name": "python",
   "nbconvert_exporter": "python",
   "pygments_lexer": "ipython3",
   "version": "3.4.3"
  }
 },
 "nbformat": 4,
 "nbformat_minor": 2
}
